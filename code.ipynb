{
 "cells": [
  {
   "cell_type": "code",
   "execution_count": 8,
   "source": [
    "import pandas as pd\n",
    "import requests\n",
    "import json\n",
    "import matplotlib.pyplot as plt"
   ],
   "outputs": [],
   "metadata": {}
  },
  {
   "cell_type": "code",
   "execution_count": 113,
   "source": [
    "#lbj : 265\n",
    "#durant : 153\n",
    "#antetokounmpo : 20\n",
    "#jokic : 279\n",
    "# Irving: 261\n",
    "# doncic : 144\n",
    "# embiid: 159\n",
    "# leaonard : 314 \n",
    " "
   ],
   "outputs": [],
   "metadata": {}
  },
  {
   "cell_type": "code",
   "execution_count": 3,
   "source": [
    "#function to get stats of desired players\n",
    "def get_stats():\n",
    "    #nba players i want info off\n",
    "    nba_players = {265:'Lebron James',153:'Kevin Durant',20:'Giannis Antetokounmpo',279:'Nikola Jokic',261:'Kyrie Irving',\n",
    "144:'Luka Doncic',159:'Joel Embiid',314:'Kawhi Leonard'}\n",
    "    #list that will contain dataframe\n",
    "    lst = []\n",
    "    #for loop that creates a dataframe and stores it in the lst list\n",
    "    for x in nba_players:\n",
    "        url = \"https://api-nba-v1.p.rapidapi.com/statistics/players/playerId/\"+str(x)\n",
    "\n",
    "        headers = {\n",
    "            'x-rapidapi-host': \"api-nba-v1.p.rapidapi.com\",\n",
    "            'x-rapidapi-key': \"38930cb347msh0647b50209ab3bfp1bd38djsnfdc6e7ea537d\"\n",
    "            }\n",
    "        response = requests.request(\"GET\", url, headers=headers)\n",
    "        content = json.loads(response.content)\n",
    "        df = pd.DataFrame(content['api']['statistics'])\n",
    "        lst.append(df)\n",
    "        df['name'] = nba_players[x]\n",
    "    return pd.concat([*lst], ignore_index=True)"
   ],
   "outputs": [],
   "metadata": {}
  },
  {
   "cell_type": "code",
   "execution_count": 4,
   "source": [
    "df = get_stats()"
   ],
   "outputs": [],
   "metadata": {}
  },
  {
   "cell_type": "code",
   "execution_count": 6,
   "source": [
    "df_lbj = df[df['name']=='Lebron James']\n",
    "\n"
   ],
   "outputs": [],
   "metadata": {}
  },
  {
   "cell_type": "code",
   "execution_count": 9,
   "source": [
    "df_lbj['game_nb'] = df_lbj.index +1"
   ],
   "outputs": [
    {
     "output_type": "stream",
     "name": "stderr",
     "text": [
      "/var/folders/3v/qs19pl4s4bl0h4lwglmmm9d80000gn/T/ipykernel_63204/2170124997.py:1: SettingWithCopyWarning: \n",
      "A value is trying to be set on a copy of a slice from a DataFrame.\n",
      "Try using .loc[row_indexer,col_indexer] = value instead\n",
      "\n",
      "See the caveats in the documentation: https://pandas.pydata.org/pandas-docs/stable/user_guide/indexing.html#returning-a-view-versus-a-copy\n",
      "  df_lbj['game_nb'] = df_lbj.index +1\n"
     ]
    }
   ],
   "metadata": {}
  },
  {
   "cell_type": "code",
   "execution_count": 12,
   "source": [
    "plt.scatter(df_lbj['game_nb'],df_lbj['points']);"
   ],
   "outputs": [
    {
     "output_type": "display_data",
     "data": {
      "image/png": "[encoded data removed]",
      "text/plain": [
       "<Figure size 432x288 with 1 Axes>"
      ]
     },
     "metadata": {
      "needs_background": "light"
     }
    }
   ],
   "metadata": {}
  },
  {
   "cell_type": "code",
   "execution_count": 16,
   "source": [
    "import plotly.express as px\n",
    "fig = px.scatter(x=df_lbj['game_nb'],y=df_lbj['points'])\n",
    "fig.show()"
   ],
   "outputs": [
    {
     "output_type": "display_data",
     "data": {
      "application/vnd.plotly.v1+json": {
       "data": [
        {
         "hovertemplate": "x=%{x}<br>y=%{y}<extra></extra>",
         "legendgroup": "",
         "marker": {
          "color": "#636efa",
          "symbol": "circle"
         },
         "mode": "markers",
         "name": "",
         "orientation": "h",
         "showlegend": false,
         "x": [
          1,
          2,
          3,
          4,
          5,
          6,
          7,
          8,
          9,
          10,
          11,
          12,
          13,
          14,
          15,
          16,
          17,
          18,
          19,
          20,
          21,
          22,
          23,
          24,
          25,
          26,
          27,
          28,
          29,
          30,
          31,
          32,
          33,
          34,
          35,
          36,
          37,
          38,
          39,
          40,
          41,
          42,
          43,
          44,
          45,
          46,
          47,
          48,
          49,
          50,
          51,
          52,
          53,
          54,
          55,
          56,
          57,
          58,
          59,
          60,
          61,
          62,
          63,
          64,
          65,
          66,
          67,
          68,
          69,
          70,
          71,
          72,
          73,
          74,
          75,
          76,
          77,
          78,
          79,
          80,
          81,
          82,
          83,
          84,
          85,
          86,
          87,
          88,
          89,
          90,
          91,
          92,
          93,
          94,
          95,
          96,
          97,
          98,
          99,
          100,
          101,
          102,
          103,
          104,
          105,
          106,
          107,
          108,
          109,
          110,
          111,
          112,
          113,
          114,
          115,
          116,
          117,
          118,
          119,
          120,
          121,
          122,
          123,
          124,
          125,
          126,
          127,
          128,
          129,
          130,
          131,
          132,
          133,
          134,
          135,
          136,
          137,
          138,
          139,
          140,
          141,
          142,
          143,
          144,
          145,
          146,
          147,
          148,
          149,
          150,
          151,
          152,
          153,
          154,
          155,
          156,
          157,
          158,
          159,
          160,
          161,
          162,
          163,
          164,
          165,
          166,
          167,
          168,
          169,
          170,
          171,
          172,
          173,
          174,
          175,
          176,
          177,
          178,
          179,
          180,
          181,
          182,
          183,
          184,
          185,
          186,
          187,
          188,
          189,
          190,
          191,
          192,
          193,
          194,
          195,
          196,
          197,
          198,
          199,
          200,
          201,
          202,
          203,
          204,
          205,
          206,
          207,
          208,
          209,
          210,
          211,
          212,
          213,
          214,
          215,
          216,
          217,
          218,
          219,
          220,
          221,
          222,
          223,
          224,
          225,
          226,
          227,
          228,
          229,
          230,
          231,
          232,
          233,
          234,
          235,
          236,
          237,
          238,
          239,
          240,
          241,
          242,
          243,
          244,
          245,
          246,
          247,
          248,
          249,
          250,
          251,
          252,
          253,
          254,
          255,
          256,
          257,
          258,
          259,
          260,
          261,
          262,
          263,
          264,
          265,
          266,
          267,
          268,
          269,
          270,
          271,
          272,
          273,
          274,
          275,
          276,
          277,
          278,
          279,
          280,
          281,
          282,
          283,
          284,
          285,
          286,
          287,
          288,
          289,
          290,
          291,
          292,
          293,
          294,
          295,
          296,
          297,
          298,
          299,
          300,
          301,
          302,
          303,
          304,
          305,
          306,
          307,
          308,
          309,
          310,
          311,
          312,
          313,
          314,
          315,
          316,
          317,
          318,
          319,
          320,
          321,
          322,
          323,
          324,
          325,
          326,
          327,
          328,
          329,
          330,
          331,
          332,
          333,
          334,
          335,
          336,
          337,
          338,
          339,
          340,
          341,
          342,
          343,
          344,
          345,
          346,
          347,
          348,
          349,
          350,
          351,
          352,
          353,
          354,
          355,
          356,
          357,
          358,
          359,
          360,
          361,
          362,
          363,
          364,
          365,
          366,
          367,
          368,
          369,
          370,
          371,
          372,
          373,
          374,
          375,
          376,
          377,
          378,
          379,
          380,
          381,
          382,
          383,
          384,
          385,
          386,
          387,
          388,
          389,
          390,
          391,
          392,
          393,
          394,
          395,
          396,
          397,
          398,
          399,
          400,
          401,
          402,
          403,
          404,
          405,
          406,
          407,
          408,
          409,
          410,
          411,
          412,
          413,
          414,
          415,
          416,
          417,
          418,
          419,
          420,
          421,
          422,
          423,
          424,
          425,
          426,
          427,
          428,
          429,
          430,
          431,
          432,
          433,
          434,
          435,
          436,
          437,
          438,
          439,
          440,
          441,
          442,
          443,
          444,
          445,
          446,
          447,
          448,
          449,
          450,
          451,
          452,
          453,
          454,
          455,
          456,
          457,
          458,
          459,
          460,
          461,
          462,
          463,
          464,
          465,
          466,
          467,
          468,
          469,
          470,
          471,
          472,
          473,
          474,
          475,
          476,
          477,
          478,
          479,
          480,
          481,
          482,
          483,
          484,
          485,
          486,
          487,
          488,
          489,
          490,
          491,
          492,
          493,
          494,
          495,
          496,
          497,
          498,
          499,
          500,
          501,
          502,
          503,
          504,
          505,
          506,
          507,
          508,
          509,
          510,
          511,
          512,
          513,
          514,
          515,
          516,
          517,
          518,
          519,
          520,
          521,
          522,
          523,
          524,
          525,
          526,
          527,
          528,
          529,
          530,
          531,
          532,
          533,
          534,
          535,
          536,
          537,
          538,
          539,
          540,
          541,
          542,
          543,
          544,
          545,
          546,
          547,
          548,
          549,
          550,
          551,
          552,
          553,
          554,
          555,
          556,
          557,
          558,
          559,
          560,
          561,
          562,
          563,
          564,
          565,
          566,
          567,
          568,
          569,
          570,
          571,
          572,
          573,
          574
         ],
         "xaxis": "x",
         "y": [
          "8",
          "",
          "14",
          "25",
          "12",
          "29",
          "22",
          "23",
          "31",
          "29",
          "31",
          "31",
          "37",
          "30",
          "27",
          "19",
          "15",
          "24",
          "25",
          "26",
          "24",
          "37",
          "",
          "33",
          "25",
          "24",
          "33",
          "23",
          "24",
          "25",
          "12",
          "14",
          "34",
          "29",
          "20",
          "34",
          "13",
          "37",
          "27",
          "22",
          "19",
          "16",
          "17",
          "22",
          "26",
          "25",
          "21",
          "20",
          "29",
          "24",
          "23",
          "30",
          "27",
          "21",
          "29",
          "13",
          "25",
          "25",
          "12",
          "23",
          "25",
          "",
          "33",
          "19",
          "28",
          "28",
          "25",
          "24",
          "27",
          "23",
          "",
          "18",
          "26",
          "33",
          "26",
          "30",
          "27",
          "24",
          "29",
          "31",
          "17",
          "33",
          "34",
          "",
          "22",
          "27",
          "20",
          "22",
          "25",
          "27",
          "24",
          "21",
          "24",
          "23",
          "24",
          "29",
          "23",
          "33",
          "23",
          "19",
          "32",
          "25",
          "41",
          "41",
          "27",
          "7",
          "15",
          "",
          "18",
          "19",
          "21",
          "23",
          "19",
          "30",
          "25",
          "23",
          "27",
          "19",
          "28",
          "",
          "21",
          "31",
          "19",
          "26",
          "22",
          "16",
          "27",
          "34",
          "25",
          "27",
          "44",
          "23",
          "",
          "26",
          "34",
          "29",
          "19",
          "31",
          "",
          "23",
          "32",
          "26",
          "31",
          "36",
          "28",
          "29",
          "20",
          "16",
          "20",
          "21",
          "29",
          "26",
          "24",
          "31",
          "25",
          "23",
          "27",
          "32",
          "32",
          "25",
          "18",
          "27",
          "25",
          "31",
          "23",
          "18",
          "",
          "24",
          "28",
          "38",
          "",
          "30",
          "29",
          "24",
          "30",
          "16",
          "33",
          "",
          "34",
          "18",
          "32",
          "24",
          "17",
          "26",
          "34",
          "41",
          "18",
          "36",
          "27",
          "32",
          "",
          "32",
          "25",
          "41",
          "33",
          "35",
          "39",
          "35",
          "35",
          "38",
          "30",
          "11",
          "34",
          "35",
          "28",
          "29",
          "39",
          "31",
          "41",
          "0",
          "0",
          "17",
          "0",
          "29",
          "24",
          "22",
          "34",
          "29",
          "18",
          "16",
          "33",
          "57",
          "26",
          "30",
          "33",
          "19",
          "23",
          "31",
          "39",
          "18",
          "33",
          "27",
          "30",
          "21",
          "24",
          "34",
          "23",
          "32",
          "29",
          "30",
          "25",
          "25",
          "29",
          "20",
          "39",
          "34",
          "20",
          "16",
          "29",
          "24",
          "19",
          "33",
          "10",
          "26",
          "27",
          "32",
          "16",
          "18",
          "28",
          "26",
          "25",
          "21",
          "24",
          "11",
          "25",
          "37",
          "22",
          "24",
          "37",
          "29",
          "32",
          "18",
          "33",
          "31",
          "30",
          "25",
          "31",
          "39",
          "25",
          "24",
          "28",
          "35",
          "33",
          "40",
          "35",
          "27",
          "37",
          "18",
          "41",
          "27",
          "16",
          "27",
          "33",
          "44",
          "26",
          "10",
          "24",
          "46",
          "28",
          "32",
          "44",
          "22",
          "45",
          "26",
          "43",
          "38",
          "29",
          "15",
          "42",
          "27",
          "44",
          "26",
          "46",
          "35",
          "51",
          "29",
          "33",
          "23",
          "9",
          "13",
          "18",
          "0",
          "15",
          "",
          "26",
          "24",
          "32",
          "19",
          "28",
          "35",
          "29",
          "29",
          "28",
          "18",
          "24",
          "25",
          "26",
          "44",
          "22",
          "51",
          "22",
          "24",
          "14",
          "38",
          "28",
          "22",
          "42",
          "35",
          "20",
          "28",
          "29",
          "24",
          "13",
          "36",
          "22",
          "22",
          "17",
          "24",
          "18",
          "28",
          "18",
          "28",
          "19",
          "29",
          "27",
          "24",
          "33",
          "31",
          "27",
          "27",
          "31",
          "30",
          "36",
          "29",
          "33",
          "25",
          "29",
          "23",
          "27",
          "15",
          "20",
          "6",
          "",
          "18",
          "",
          "18",
          "32",
          "20",
          "23",
          "39",
          "21",
          "30",
          "25",
          "13",
          "19",
          "23",
          "29",
          "33",
          "25",
          "23",
          "30",
          "33",
          "29",
          "23",
          "25",
          "25",
          "20",
          "31",
          "32",
          "25",
          "28",
          "32",
          "20",
          "21",
          "23",
          "21",
          "13",
          "31",
          "17",
          "21",
          "31",
          "35",
          "31",
          "19",
          "31",
          "15",
          "21",
          "27",
          "29",
          "22",
          "15",
          "36",
          "18",
          "22",
          "17",
          "32",
          "23",
          "32",
          "29",
          "40",
          "19",
          "34",
          "22",
          "37",
          "28",
          "29",
          "12",
          "20",
          "0",
          "16",
          "20",
          "22",
          "19",
          "31",
          "29",
          "17",
          "23",
          "10",
          "38",
          "30",
          "36",
          "20",
          "28",
          "36",
          "16",
          "29",
          "15",
          "26",
          "30",
          "26",
          "38",
          "25",
          "33",
          "25",
          "28",
          "40",
          "28",
          "0",
          "0",
          "11",
          "20",
          "22",
          "22",
          "18",
          "29",
          "26",
          "26",
          "22",
          "26",
          "27",
          "28",
          "18",
          "26",
          "26",
          "21",
          "19",
          "34",
          "17",
          "46",
          "34",
          "22",
          "21",
          "21",
          "27",
          "33",
          "28",
          "25",
          "28",
          "22",
          "30",
          "32",
          "19",
          "31",
          "19",
          "28",
          "19",
          "38",
          "4",
          "18",
          "22",
          "25",
          "37",
          "10",
          "16",
          "19",
          "24",
          "25",
          "22",
          "18",
          "23",
          "21",
          "25",
          "24",
          "29",
          "0",
          "0",
          "9",
          "0",
          "17",
          "30",
          "34",
          "25",
          "19",
          "",
          "",
          "26",
          "15",
          "30",
          "23",
          "10",
          "",
          "39",
          "30",
          "33",
          "23",
          "30",
          "20",
          "33",
          "30",
          "24",
          "18",
          "31",
          "34",
          "36",
          "39",
          "32",
          "37",
          "43",
          "26",
          "31",
          "32",
          "35",
          "34",
          "20"
         ],
         "yaxis": "y",
         "type": "scatter"
        }
       ],
       "layout": {
        "template": {
         "data": {
          "bar": [
           {
            "error_x": {
             "color": "#2a3f5f"
            },
            "error_y": {
             "color": "#2a3f5f"
            },
            "marker": {
             "line": {
              "color": "#E5ECF6",
              "width": 0.5
             },
             "pattern": {
              "fillmode": "overlay",
              "size": 10,
              "solidity": 0.2
             }
            },
            "type": "bar"
           }
          ],
          "barpolar": [
           {
            "marker": {
             "line": {
              "color": "#E5ECF6",
              "width": 0.5
             },
             "pattern": {
              "fillmode": "overlay",
              "size": 10,
              "solidity": 0.2
             }
            },
            "type": "barpolar"
           }
          ],
          "carpet": [
           {
            "aaxis": {
             "endlinecolor": "#2a3f5f",
             "gridcolor": "white",
             "linecolor": "white",
             "minorgridcolor": "white",
             "startlinecolor": "#2a3f5f"
            },
            "baxis": {
             "endlinecolor": "#2a3f5f",
             "gridcolor": "white",
             "linecolor": "white",
             "minorgridcolor": "white",
             "startlinecolor": "#2a3f5f"
            },
            "type": "carpet"
           }
          ],
          "choropleth": [
           {
            "colorbar": {
             "outlinewidth": 0,
             "ticks": ""
            },
            "type": "choropleth"
           }
          ],
          "contour": [
           {
            "colorbar": {
             "outlinewidth": 0,
             "ticks": ""
            },
            "colorscale": [
             [
              0,
              "#0d0887"
             ],
             [
              0.1111111111111111,
              "#46039f"
             ],
             [
              0.2222222222222222,
              "#7201a8"
             ],
             [
              0.3333333333333333,
              "#9c179e"
             ],
             [
              0.4444444444444444,
              "#bd3786"
             ],
             [
              0.5555555555555556,
              "#d8576b"
             ],
             [
              0.6666666666666666,
              "#ed7953"
             ],
             [
              0.7777777777777778,
              "#fb9f3a"
             ],
             [
              0.8888888888888888,
              "#fdca26"
             ],
             [
              1,
              "#f0f921"
             ]
            ],
            "type": "contour"
           }
          ],
          "contourcarpet": [
           {
            "colorbar": {
             "outlinewidth": 0,
             "ticks": ""
            },
            "type": "contourcarpet"
           }
          ],
          "heatmap": [
           {
            "colorbar": {
             "outlinewidth": 0,
             "ticks": ""
            },
            "colorscale": [
             [
              0,
              "#0d0887"
             ],
             [
              0.1111111111111111,
              "#46039f"
             ],
             [
              0.2222222222222222,
              "#7201a8"
             ],
             [
              0.3333333333333333,
              "#9c179e"
             ],
             [
              0.4444444444444444,
              "#bd3786"
             ],
             [
              0.5555555555555556,
              "#d8576b"
             ],
             [
              0.6666666666666666,
              "#ed7953"
             ],
             [
              0.7777777777777778,
              "#fb9f3a"
             ],
             [
              0.8888888888888888,
              "#fdca26"
             ],
             [
              1,
              "#f0f921"
             ]
            ],
            "type": "heatmap"
           }
          ],
          "heatmapgl": [
           {
            "colorbar": {
             "outlinewidth": 0,
             "ticks": ""
            },
            "colorscale": [
             [
              0,
              "#0d0887"
             ],
             [
              0.1111111111111111,
              "#46039f"
             ],
             [
              0.2222222222222222,
              "#7201a8"
             ],
             [
              0.3333333333333333,
              "#9c179e"
             ],
             [
              0.4444444444444444,
              "#bd3786"
             ],
             [
              0.5555555555555556,
              "#d8576b"
             ],
             [
              0.6666666666666666,
              "#ed7953"
             ],
             [
              0.7777777777777778,
              "#fb9f3a"
             ],
             [
              0.8888888888888888,
              "#fdca26"
             ],
             [
              1,
              "#f0f921"
             ]
            ],
            "type": "heatmapgl"
           }
          ],
          "histogram": [
           {
            "marker": {
             "pattern": {
              "fillmode": "overlay",
              "size": 10,
              "solidity": 0.2
             }
            },
            "type": "histogram"
           }
          ],
          "histogram2d": [
           {
            "colorbar": {
             "outlinewidth": 0,
             "ticks": ""
            },
            "colorscale": [
             [
              0,
              "#0d0887"
             ],
             [
              0.1111111111111111,
              "#46039f"
             ],
             [
              0.2222222222222222,
              "#7201a8"
             ],
             [
              0.3333333333333333,
              "#9c179e"
             ],
             [
              0.4444444444444444,
              "#bd3786"
             ],
             [
              0.5555555555555556,
              "#d8576b"
             ],
             [
              0.6666666666666666,
              "#ed7953"
             ],
             [
              0.7777777777777778,
              "#fb9f3a"
             ],
             [
              0.8888888888888888,
              "#fdca26"
             ],
             [
              1,
              "#f0f921"
             ]
            ],
            "type": "histogram2d"
           }
          ],
          "histogram2dcontour": [
           {
            "colorbar": {
             "outlinewidth": 0,
             "ticks": ""
            },
            "colorscale": [
             [
              0,
              "#0d0887"
             ],
             [
              0.1111111111111111,
              "#46039f"
             ],
             [
              0.2222222222222222,
              "#7201a8"
             ],
             [
              0.3333333333333333,
              "#9c179e"
             ],
             [
              0.4444444444444444,
              "#bd3786"
             ],
             [
              0.5555555555555556,
              "#d8576b"
             ],
             [
              0.6666666666666666,
              "#ed7953"
             ],
             [
              0.7777777777777778,
              "#fb9f3a"
             ],
             [
              0.8888888888888888,
              "#fdca26"
             ],
             [
              1,
              "#f0f921"
             ]
            ],
            "type": "histogram2dcontour"
           }
          ],
          "mesh3d": [
           {
            "colorbar": {
             "outlinewidth": 0,
             "ticks": ""
            },
            "type": "mesh3d"
           }
          ],
          "parcoords": [
           {
            "line": {
             "colorbar": {
              "outlinewidth": 0,
              "ticks": ""
             }
            },
            "type": "parcoords"
           }
          ],
          "pie": [
           {
            "automargin": true,
            "type": "pie"
           }
          ],
          "scatter": [
           {
            "marker": {
             "colorbar": {
              "outlinewidth": 0,
              "ticks": ""
             }
            },
            "type": "scatter"
           }
          ],
          "scatter3d": [
           {
            "line": {
             "colorbar": {
              "outlinewidth": 0,
              "ticks": ""
             }
            },
            "marker": {
             "colorbar": {
              "outlinewidth": 0,
              "ticks": ""
             }
            },
            "type": "scatter3d"
           }
          ],
          "scattercarpet": [
           {
            "marker": {
             "colorbar": {
              "outlinewidth": 0,
              "ticks": ""
             }
            },
            "type": "scattercarpet"
           }
          ],
          "scattergeo": [
           {
            "marker": {
             "colorbar": {
              "outlinewidth": 0,
              "ticks": ""
             }
            },
            "type": "scattergeo"
           }
          ],
          "scattergl": [
           {
            "marker": {
             "colorbar": {
              "outlinewidth": 0,
              "ticks": ""
             }
            },
            "type": "scattergl"
           }
          ],
          "scattermapbox": [
           {
            "marker": {
             "colorbar": {
              "outlinewidth": 0,
              "ticks": ""
             }
            },
            "type": "scattermapbox"
           }
          ],
          "scatterpolar": [
           {
            "marker": {
             "colorbar": {
              "outlinewidth": 0,
              "ticks": ""
             }
            },
            "type": "scatterpolar"
           }
          ],
          "scatterpolargl": [
           {
            "marker": {
             "colorbar": {
              "outlinewidth": 0,
              "ticks": ""
             }
            },
            "type": "scatterpolargl"
           }
          ],
          "scatterternary": [
           {
            "marker": {
             "colorbar": {
              "outlinewidth": 0,
              "ticks": ""
             }
            },
            "type": "scatterternary"
           }
          ],
          "surface": [
           {
            "colorbar": {
             "outlinewidth": 0,
             "ticks": ""
            },
            "colorscale": [
             [
              0,
              "#0d0887"
             ],
             [
              0.1111111111111111,
              "#46039f"
             ],
             [
              0.2222222222222222,
              "#7201a8"
             ],
             [
              0.3333333333333333,
              "#9c179e"
             ],
             [
              0.4444444444444444,
              "#bd3786"
             ],
             [
              0.5555555555555556,
              "#d8576b"
             ],
             [
              0.6666666666666666,
              "#ed7953"
             ],
             [
              0.7777777777777778,
              "#fb9f3a"
             ],
             [
              0.8888888888888888,
              "#fdca26"
             ],
             [
              1,
              "#f0f921"
             ]
            ],
            "type": "surface"
           }
          ],
          "table": [
           {
            "cells": {
             "fill": {
              "color": "#EBF0F8"
             },
             "line": {
              "color": "white"
             }
            },
            "header": {
             "fill": {
              "color": "#C8D4E3"
             },
             "line": {
              "color": "white"
             }
            },
            "type": "table"
           }
          ]
         },
         "layout": {
          "annotationdefaults": {
           "arrowcolor": "#2a3f5f",
           "arrowhead": 0,
           "arrowwidth": 1
          },
          "autotypenumbers": "strict",
          "coloraxis": {
           "colorbar": {
            "outlinewidth": 0,
            "ticks": ""
           }
          },
          "colorscale": {
           "diverging": [
            [
             0,
             "#8e0152"
            ],
            [
             0.1,
             "#c51b7d"
            ],
            [
             0.2,
             "#de77ae"
            ],
            [
             0.3,
             "#f1b6da"
            ],
            [
             0.4,
             "#fde0ef"
            ],
            [
             0.5,
             "#f7f7f7"
            ],
            [
             0.6,
             "#e6f5d0"
            ],
            [
             0.7,
             "#b8e186"
            ],
            [
             0.8,
             "#7fbc41"
            ],
            [
             0.9,
             "#4d9221"
            ],
            [
             1,
             "#276419"
            ]
           ],
           "sequential": [
            [
             0,
             "#0d0887"
            ],
            [
             0.1111111111111111,
             "#46039f"
            ],
            [
             0.2222222222222222,
             "#7201a8"
            ],
            [
             0.3333333333333333,
             "#9c179e"
            ],
            [
             0.4444444444444444,
             "#bd3786"
            ],
            [
             0.5555555555555556,
             "#d8576b"
            ],
            [
             0.6666666666666666,
             "#ed7953"
            ],
            [
             0.7777777777777778,
             "#fb9f3a"
            ],
            [
             0.8888888888888888,
             "#fdca26"
            ],
            [
             1,
             "#f0f921"
            ]
           ],
           "sequentialminus": [
            [
             0,
             "#0d0887"
            ],
            [
             0.1111111111111111,
             "#46039f"
            ],
            [
             0.2222222222222222,
             "#7201a8"
            ],
            [
             0.3333333333333333,
             "#9c179e"
            ],
            [
             0.4444444444444444,
             "#bd3786"
            ],
            [
             0.5555555555555556,
             "#d8576b"
            ],
            [
             0.6666666666666666,
             "#ed7953"
            ],
            [
             0.7777777777777778,
             "#fb9f3a"
            ],
            [
             0.8888888888888888,
             "#fdca26"
            ],
            [
             1,
             "#f0f921"
            ]
           ]
          },
          "colorway": [
           "#636efa",
           "#EF553B",
           "#00cc96",
           "#ab63fa",
           "#FFA15A",
           "#19d3f3",
           "#FF6692",
           "#B6E880",
           "#FF97FF",
           "#FECB52"
          ],
          "font": {
           "color": "#2a3f5f"
          },
          "geo": {
           "bgcolor": "white",
           "lakecolor": "white",
           "landcolor": "#E5ECF6",
           "showlakes": true,
           "showland": true,
           "subunitcolor": "white"
          },
          "hoverlabel": {
           "align": "left"
          },
          "hovermode": "closest",
          "mapbox": {
           "style": "light"
          },
          "paper_bgcolor": "white",
          "plot_bgcolor": "#E5ECF6",
          "polar": {
           "angularaxis": {
            "gridcolor": "white",
            "linecolor": "white",
            "ticks": ""
           },
           "bgcolor": "#E5ECF6",
           "radialaxis": {
            "gridcolor": "white",
            "linecolor": "white",
            "ticks": ""
           }
          },
          "scene": {
           "xaxis": {
            "backgroundcolor": "#E5ECF6",
            "gridcolor": "white",
            "gridwidth": 2,
            "linecolor": "white",
            "showbackground": true,
            "ticks": "",
            "zerolinecolor": "white"
           },
           "yaxis": {
            "backgroundcolor": "#E5ECF6",
            "gridcolor": "white",
            "gridwidth": 2,
            "linecolor": "white",
            "showbackground": true,
            "ticks": "",
            "zerolinecolor": "white"
           },
           "zaxis": {
            "backgroundcolor": "#E5ECF6",
            "gridcolor": "white",
            "gridwidth": 2,
            "linecolor": "white",
            "showbackground": true,
            "ticks": "",
            "zerolinecolor": "white"
           }
          },
          "shapedefaults": {
           "line": {
            "color": "#2a3f5f"
           }
          },
          "ternary": {
           "aaxis": {
            "gridcolor": "white",
            "linecolor": "white",
            "ticks": ""
           },
           "baxis": {
            "gridcolor": "white",
            "linecolor": "white",
            "ticks": ""
           },
           "bgcolor": "#E5ECF6",
           "caxis": {
            "gridcolor": "white",
            "linecolor": "white",
            "ticks": ""
           }
          },
          "title": {
           "x": 0.05
          },
          "xaxis": {
           "automargin": true,
           "gridcolor": "white",
           "linecolor": "white",
           "ticks": "",
           "title": {
            "standoff": 15
           },
           "zerolinecolor": "white",
           "zerolinewidth": 2
          },
          "yaxis": {
           "automargin": true,
           "gridcolor": "white",
           "linecolor": "white",
           "ticks": "",
           "title": {
            "standoff": 15
           },
           "zerolinecolor": "white",
           "zerolinewidth": 2
          }
         }
        },
        "xaxis": {
         "anchor": "y",
         "domain": [
          0,
          1
         ],
         "title": {
          "text": "x"
         }
        },
        "yaxis": {
         "anchor": "x",
         "domain": [
          0,
          1
         ],
         "title": {
          "text": "y"
         }
        },
        "legend": {
         "tracegroupgap": 0
        },
        "margin": {
         "t": 60
        }
       },
       "config": {
        "plotlyServerURL": "https://plot.ly"
       }
      }
     },
     "metadata": {}
    }
   ],
   "metadata": {}
  },
  {
   "cell_type": "code",
   "execution_count": 7,
   "source": [
    "df.info()"
   ],
   "outputs": [
    {
     "output_type": "stream",
     "name": "stdout",
     "text": [
      "<class 'pandas.core.frame.DataFrame'>\n",
      "RangeIndex: 3504 entries, 0 to 3503\n",
      "Data columns (total 25 columns):\n",
      " #   Column     Non-Null Count  Dtype \n",
      "---  ------     --------------  ----- \n",
      " 0   gameId     3504 non-null   object\n",
      " 1   teamId     3504 non-null   object\n",
      " 2   points     3504 non-null   object\n",
      " 3   pos        3504 non-null   object\n",
      " 4   min        3504 non-null   object\n",
      " 5   fgm        3504 non-null   object\n",
      " 6   fga        3504 non-null   object\n",
      " 7   fgp        3504 non-null   object\n",
      " 8   ftm        3504 non-null   object\n",
      " 9   fta        3504 non-null   object\n",
      " 10  ftp        3504 non-null   object\n",
      " 11  tpm        3504 non-null   object\n",
      " 12  tpa        3504 non-null   object\n",
      " 13  tpp        3504 non-null   object\n",
      " 14  offReb     3504 non-null   object\n",
      " 15  defReb     3504 non-null   object\n",
      " 16  totReb     3504 non-null   object\n",
      " 17  assists    3504 non-null   object\n",
      " 18  pFouls     3504 non-null   object\n",
      " 19  steals     3504 non-null   object\n",
      " 20  turnovers  3504 non-null   object\n",
      " 21  blocks     3504 non-null   object\n",
      " 22  plusMinus  3504 non-null   object\n",
      " 23  playerId   3504 non-null   object\n",
      " 24  name       3504 non-null   object\n",
      "dtypes: object(25)\n",
      "memory usage: 684.5+ KB\n"
     ]
    }
   ],
   "metadata": {}
  },
  {
   "cell_type": "code",
   "execution_count": 68,
   "source": [
    "\n",
    "\"\"\"def get_stats():\n",
    "    url = \"https://free-nba.p.rapidapi.com/players\"\n",
    "    nb = 1\n",
    "    total = []\n",
    "    while nb <= 38:\n",
    "        headers = {\n",
    "        'x-rapidapi-host': \"free-nba.p.rapidapi.com\",\n",
    "        'x-rapidapi-key': \"38930cb347msh0647b50209ab3bfp1bd38djsnfdc6e7ea537d\"\n",
    "        }\n",
    "        querystring = {\"page\":str(nb),\"per_page\":\"100\"}\n",
    "        response = requests.request(\"GET\", url, headers=headers, params=querystring)\n",
    "        content = json.loads(response.content)\n",
    "        df = pd.DataFrame(content['data'])\n",
    "        team = df['team'].to_list()\n",
    "        df2 = pd.DataFrame(team)\n",
    "        df2.rename(columns={'id':'team_id'},inplace=True)\n",
    "        df = df.drop('team',axis=1)\n",
    "        df3 = pd.concat([df,df2],join='outer',axis=1)\n",
    "        total.append(df3)\n",
    "        nb+=1\n",
    "\n",
    "    return pd.concat([*total], ignore_index=True)\n",
    "\"\"\"\n"
   ],
   "outputs": [],
   "metadata": {}
  },
  {
   "cell_type": "code",
   "execution_count": null,
   "source": [
    "# find better api -->more stats"
   ],
   "outputs": [],
   "metadata": {}
  }
 ],
 "metadata": {
  "orig_nbformat": 4,
  "language_info": {
   "name": "python",
   "version": "3.9.2",
   "mimetype": "text/x-python",
   "codemirror_mode": {
    "name": "ipython",
    "version": 3
   },
   "pygments_lexer": "ipython3",
   "nbconvert_exporter": "python",
   "file_extension": ".py"
  },
  "kernelspec": {
   "name": "python3",
   "display_name": "Python 3.9.2 64-bit"
  },
  "interpreter": {
   "hash": "aee8b7b246df8f9039afb4144a1f6fd8d2ca17a180786b69acc140d282b71a49"
  }
 },
 "nbformat": 4,
 "nbformat_minor": 2
}