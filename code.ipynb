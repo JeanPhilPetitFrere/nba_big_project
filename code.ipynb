{
 "cells": [
  {
   "cell_type": "code",
   "execution_count": 1,
   "source": [
    "import pandas as pd\n",
    "import requests"
   ],
   "outputs": [],
   "metadata": {}
  },
  {
   "cell_type": "code",
   "execution_count": 10,
   "source": [
    "\"\"\"url = \"https://free-nba.p.rapidapi.com/players\"\n",
    "nb =1\n",
    "querystring = {\"page\":str(nb),\"per_page\":\"100\"}\n",
    "\n",
    "headers = {\n",
    "    'x-rapidapi-host': \"free-nba.p.rapidapi.com\",\n",
    "    'x-rapidapi-key': \"38930cb347msh0647b50209ab3bfp1bd38djsnfdc6e7ea537d\"\n",
    "    }\n",
    "\n",
    "response = requests.request(\"GET\", url, headers=headers, params=querystring)\n",
    "data = response.json()\n",
    "\n",
    "#print(data)\"\"\""
   ],
   "outputs": [],
   "metadata": {}
  },
  {
   "cell_type": "code",
   "execution_count": 11,
   "source": [
    "\n",
    "def get_stats():\n",
    "    nb = 1\n",
    "    total = []\n",
    "    while nb <= 38:\n",
    "        headers = {\n",
    "        'x-rapidapi-host': \"free-nba.p.rapidapi.com\",\n",
    "        'x-rapidapi-key': \"38930cb347msh0647b50209ab3bfp1bd38djsnfdc6e7ea537d\"\n",
    "        }\n",
    "        querystring = {\"page\":str(nb),\"per_page\":\"100\"}\n",
    "        response = requests.request(\"GET\", url, headers=headers, params=querystring)\n",
    "        data = response.json()\n",
    "        total.append(data)\n",
    "        nb+=1\n",
    "    return total\n",
    "\n"
   ],
   "outputs": [],
   "metadata": {}
  },
  {
   "cell_type": "code",
   "execution_count": 14,
   "source": [
    "all_data = get_stats()"
   ],
   "outputs": [],
   "metadata": {}
  },
  {
   "cell_type": "code",
   "execution_count": 16,
   "source": [
    "len(all_data)"
   ],
   "outputs": [
    {
     "output_type": "execute_result",
     "data": {
      "text/plain": [
       "38"
      ]
     },
     "metadata": {},
     "execution_count": 16
    }
   ],
   "metadata": {}
  }
 ],
 "metadata": {
  "orig_nbformat": 4,
  "language_info": {
   "name": "python",
   "version": "3.9.2",
   "mimetype": "text/x-python",
   "codemirror_mode": {
    "name": "ipython",
    "version": 3
   },
   "pygments_lexer": "ipython3",
   "nbconvert_exporter": "python",
   "file_extension": ".py"
  },
  "kernelspec": {
   "name": "python3",
   "display_name": "Python 3.9.2 64-bit"
  },
  "interpreter": {
   "hash": "aee8b7b246df8f9039afb4144a1f6fd8d2ca17a180786b69acc140d282b71a49"
  }
 },
 "nbformat": 4,
 "nbformat_minor": 2
}